{
  "cells": [
    {
      "cell_type": "code",
      "source": [
        "import pandas as pd\n",
        "import tarfile\n",
        "from tqdm import tqdm\n",
        "import json\n",
        "import numpy as np\n",
        "from copy import deepcopy\n",
        "from sklearn.model_selection import train_test_split\n",
        "from sklearn import metrics\n",
        "from tensorflow.keras.utils import to_categorical\n",
        "import matplotlib.pyplot as plt\n",
        "import scipy.sparse as sparse\n",
        "import tensorflow as tf\n",
        "import os\n",
        "os.environ[\"CUDA_VISIBLE_DEVICES\"] = \"-1\"\n"
      ],
      "outputs": [],
      "execution_count": 19,
      "metadata": {
        "gather": {
          "logged": 1671071413765
        }
      }
    },
    {
      "cell_type": "code",
      "source": [
        "import transformers\n",
        "print(transformers.__version__)"
      ],
      "outputs": [],
      "execution_count": 20,
      "metadata": {
        "jupyter": {
          "source_hidden": false,
          "outputs_hidden": false
        },
        "nteract": {
          "transient": {
            "deleting": false
          }
        },
        "gather": {
          "logged": 1671071418375
        }
      }
    },
    {
      "cell_type": "code",
      "source": [
        "%pip install transformers --upgrade"
      ],
      "outputs": [
        {
          "output_type": "stream",
          "name": "stdout",
          "text": "Collecting transformers\n  Using cached transformers-4.25.1-py3-none-any.whl (5.8 MB)\nCollecting huggingface-hub<1.0,>=0.10.0\n  Downloading huggingface_hub-0.11.1-py3-none-any.whl (182 kB)\n\u001b[2K     \u001b[90m━━━━━━━━━━━━━━━━━━━━━━━━━━━━━━━━━━━━━━━\u001b[0m \u001b[32m182.4/182.4 kB\u001b[0m \u001b[31m9.9 MB/s\u001b[0m eta \u001b[36m0:00:00\u001b[0m\n\u001b[?25hCollecting regex!=2019.12.17\n  Downloading regex-2022.10.31-cp38-cp38-manylinux_2_17_x86_64.manylinux2014_x86_64.whl (772 kB)\n\u001b[2K     \u001b[90m━━━━━━━━━━━━━━━━━━━━━━━━━━━━━━━━━━━━━━\u001b[0m \u001b[32m772.3/772.3 kB\u001b[0m \u001b[31m43.2 MB/s\u001b[0m eta \u001b[36m0:00:00\u001b[0m\n\u001b[?25hRequirement already satisfied: requests in /anaconda/envs/azureml_py38_PT_TF/lib/python3.8/site-packages (from transformers) (2.28.1)\nRequirement already satisfied: packaging>=20.0 in /anaconda/envs/azureml_py38_PT_TF/lib/python3.8/site-packages (from transformers) (21.3)\nRequirement already satisfied: tqdm>=4.27 in /anaconda/envs/azureml_py38_PT_TF/lib/python3.8/site-packages (from transformers) (4.64.1)\nCollecting filelock\n  Downloading filelock-3.8.2-py3-none-any.whl (10 kB)\nRequirement already satisfied: numpy>=1.17 in /anaconda/envs/azureml_py38_PT_TF/lib/python3.8/site-packages (from transformers) (1.23.4)\nRequirement already satisfied: pyyaml>=5.1 in /anaconda/envs/azureml_py38_PT_TF/lib/python3.8/site-packages (from transformers) (6.0)\nCollecting tokenizers!=0.11.3,<0.14,>=0.11.1\n  Using cached tokenizers-0.13.2-cp38-cp38-manylinux_2_17_x86_64.manylinux2014_x86_64.whl (7.6 MB)\nRequirement already satisfied: typing-extensions>=3.7.4.3 in /anaconda/envs/azureml_py38_PT_TF/lib/python3.8/site-packages (from huggingface-hub<1.0,>=0.10.0->transformers) (4.4.0)\nRequirement already satisfied: pyparsing!=3.0.5,>=2.0.2 in /anaconda/envs/azureml_py38_PT_TF/lib/python3.8/site-packages (from packaging>=20.0->transformers) (3.0.9)\nRequirement already satisfied: certifi>=2017.4.17 in /anaconda/envs/azureml_py38_PT_TF/lib/python3.8/site-packages (from requests->transformers) (2022.9.24)\nRequirement already satisfied: charset-normalizer<3,>=2 in /anaconda/envs/azureml_py38_PT_TF/lib/python3.8/site-packages (from requests->transformers) (2.1.1)\nRequirement already satisfied: urllib3<1.27,>=1.21.1 in /anaconda/envs/azureml_py38_PT_TF/lib/python3.8/site-packages (from requests->transformers) (1.26.12)\nRequirement already satisfied: idna<4,>=2.5 in /anaconda/envs/azureml_py38_PT_TF/lib/python3.8/site-packages (from requests->transformers) (3.4)\nInstalling collected packages: tokenizers, regex, filelock, huggingface-hub, transformers\nSuccessfully installed filelock-3.8.2 huggingface-hub-0.11.1 regex-2022.10.31 tokenizers-0.13.2 transformers-4.25.1\nNote: you may need to restart the kernel to use updated packages.\n"
        }
      ],
      "execution_count": 3,
      "metadata": {
        "jupyter": {
          "source_hidden": false,
          "outputs_hidden": false
        },
        "nteract": {
          "transient": {
            "deleting": false
          }
        }
      }
    },
    {
      "cell_type": "code",
      "source": [
        "from transformers import DebertaTokenizerFast, TFDebertaModel"
      ],
      "outputs": [],
      "execution_count": 21,
      "metadata": {
        "jupyter": {
          "source_hidden": false,
          "outputs_hidden": false
        },
        "nteract": {
          "transient": {
            "deleting": false
          }
        },
        "gather": {
          "logged": 1671071422707
        }
      }
    },
    {
      "cell_type": "code",
      "source": [
        "np_load_old = np.load\n",
        "\n",
        "# modify the default parameters of np.load\n",
        "np.load = lambda *a,**k: np_load_old(*a, allow_pickle=True, **k)\n",
        "numpyArray = np.load('../Jiro/features.npy')\n",
        "np.load = np_load_old\n",
        "ratings_ = df = pd.DataFrame(numpyArray, columns = ['user_id','business_id','stars','text'])\n"
      ],
      "outputs": [],
      "execution_count": 22,
      "metadata": {
        "gather": {
          "logged": 1671071428318
        }
      }
    },
    {
      "cell_type": "code",
      "source": [
        "ratingsnew = ratings_.head(10000)\n",
        "# ratingsnew[\"stars\"].astype(float).round()\n",
        "\n",
        "for count in range(len(ratingsnew.text)):\n",
        "    ratingsnew.at[count, 'text'] = \" \".join(ratingsnew.at[count, 'text'])\n",
        "\n",
        "ratingsnew['text'] = ratingsnew['text'].astype(str)\n",
        "print(ratings_.head(1))"
      ],
      "outputs": [
        {
          "output_type": "stream",
          "name": "stderr",
          "text": "/tmp/ipykernel_24713/3368612200.py:7: SettingWithCopyWarning: \nA value is trying to be set on a copy of a slice from a DataFrame.\nTry using .loc[row_indexer,col_indexer] = value instead\n\nSee the caveats in the documentation: https://pandas.pydata.org/pandas-docs/stable/user_guide/indexing.html#returning-a-view-versus-a-copy\n  ratingsnew['text'] = ratingsnew['text'].astype(str)\n"
        }
      ],
      "execution_count": 23,
      "metadata": {
        "gather": {
          "logged": 1671071435389
        }
      }
    },
    {
      "cell_type": "code",
      "source": [
        "df_features = ratingsnew\n",
        "df_features[\"user_id\"]  = df_features['user_id'].astype(\"category\").cat.codes\n",
        "df_features[\"business_id\"]  = df_features['business_id'].astype(\"category\").cat.codes\n"
      ],
      "outputs": [
        {
          "output_type": "stream",
          "name": "stderr",
          "text": "/tmp/ipykernel_24713/2687010449.py:2: SettingWithCopyWarning: \nA value is trying to be set on a copy of a slice from a DataFrame.\nTry using .loc[row_indexer,col_indexer] = value instead\n\nSee the caveats in the documentation: https://pandas.pydata.org/pandas-docs/stable/user_guide/indexing.html#returning-a-view-versus-a-copy\n  df_features[\"user_id\"]  = df_features['user_id'].astype(\"category\").cat.codes\n/tmp/ipykernel_24713/2687010449.py:3: SettingWithCopyWarning: \nA value is trying to be set on a copy of a slice from a DataFrame.\nTry using .loc[row_indexer,col_indexer] = value instead\n\nSee the caveats in the documentation: https://pandas.pydata.org/pandas-docs/stable/user_guide/indexing.html#returning-a-view-versus-a-copy\n  df_features[\"business_id\"]  = df_features['business_id'].astype(\"category\").cat.codes\n"
        }
      ],
      "execution_count": 24,
      "metadata": {
        "gather": {
          "logged": 1671071438291
        }
      }
    },
    {
      "cell_type": "code",
      "source": [
        "sparse_item_user = sparse.csr_matrix((df_features['stars'].astype('float'), (df_features['user_id'], df_features['business_id'])))\n",
        "sparse_user_item = sparse.csr_matrix((df_features['stars'].astype('float'),  (df_features['business_id'],df_features['user_id'])))\n"
      ],
      "outputs": [],
      "execution_count": 25,
      "metadata": {
        "jupyter": {
          "source_hidden": false,
          "outputs_hidden": false
        },
        "nteract": {
          "transient": {
            "deleting": false
          }
        },
        "gather": {
          "logged": 1671071442068
        }
      }
    },
    {
      "cell_type": "code",
      "source": [
        "%pip install implicit"
      ],
      "outputs": [
        {
          "output_type": "stream",
          "name": "stdout",
          "text": "Collecting implicit\n  Downloading implicit-0.6.2-cp38-cp38-manylinux2014_x86_64.whl (18.6 MB)\n\u001b[2K     \u001b[90m━━━━━━━━━━━━━━━━━━━━━━━━━━━━━━━━━━━━━━━━\u001b[0m \u001b[32m18.6/18.6 MB\u001b[0m \u001b[31m19.2 MB/s\u001b[0m eta \u001b[36m0:00:00\u001b[0m00:01\u001b[0m00:01\u001b[0m\n\u001b[?25hRequirement already satisfied: tqdm>=4.27 in /anaconda/envs/azureml_py38_PT_TF/lib/python3.8/site-packages (from implicit) (4.64.1)\nRequirement already satisfied: numpy in /anaconda/envs/azureml_py38_PT_TF/lib/python3.8/site-packages (from implicit) (1.23.4)\nRequirement already satisfied: scipy>=0.16 in /anaconda/envs/azureml_py38_PT_TF/lib/python3.8/site-packages (from implicit) (1.9.3)\nInstalling collected packages: implicit\nSuccessfully installed implicit-0.6.2\nNote: you may need to restart the kernel to use updated packages.\n"
        }
      ],
      "execution_count": 11,
      "metadata": {
        "jupyter": {
          "source_hidden": false,
          "outputs_hidden": false
        },
        "nteract": {
          "transient": {
            "deleting": false
          }
        }
      }
    },
    {
      "cell_type": "code",
      "source": [
        "import implicit"
      ],
      "outputs": [],
      "execution_count": 26,
      "metadata": {
        "jupyter": {
          "source_hidden": false,
          "outputs_hidden": false
        },
        "nteract": {
          "transient": {
            "deleting": false
          }
        },
        "gather": {
          "logged": 1671071448507
        }
      }
    },
    {
      "cell_type": "code",
      "source": [
        "modelRec = implicit.als.AlternatingLeastSquares(factors=20, regularization=0.1, iterations=20)\n",
        "\n",
        "\n",
        "alpha_val = 40\n",
        "data_conf = (sparse_item_user * alpha_val).astype('double')\n",
        "\n",
        "\n",
        "modelRec.fit(data_conf)\n"
      ],
      "outputs": [
        {
          "output_type": "stream",
          "name": "stderr",
          "text": "\r  0%|          | 0/20 [00:00<?, ?it/s]\r100%|██████████| 20/20 [00:00<00:00, 329.45it/s]\n"
        }
      ],
      "execution_count": 27,
      "metadata": {
        "jupyter": {
          "source_hidden": false,
          "outputs_hidden": false
        },
        "nteract": {
          "transient": {
            "deleting": false
          }
        },
        "gather": {
          "logged": 1671071452986
        }
      }
    },
    {
      "cell_type": "code",
      "source": [
        "df_features[\"labels\"] = df_features.apply(lambda row: modelRec.user_factors[row['user_id']],axis=1)\n",
        "df_features.head()"
      ],
      "outputs": [
        {
          "output_type": "stream",
          "name": "stderr",
          "text": "/tmp/ipykernel_24713/3483575756.py:1: SettingWithCopyWarning: \nA value is trying to be set on a copy of a slice from a DataFrame.\nTry using .loc[row_indexer,col_indexer] = value instead\n\nSee the caveats in the documentation: https://pandas.pydata.org/pandas-docs/stable/user_guide/indexing.html#returning-a-view-versus-a-copy\n  df_features[\"labels\"] = df_features.apply(lambda row: modelRec.user_factors[row['user_id']],axis=1)\n"
        },
        {
          "output_type": "execute_result",
          "execution_count": 28,
          "data": {
            "text/plain": "   user_id  business_id stars  \\\n0     7445         2091   3.0   \n1     3849          525   5.0   \n2     1395         2179   3.0   \n3     5467         2992   5.0   \n4     5864         2555   4.0   \n\n                                                text  \\\n0  [CLS] If you decide to eat here , just be awar...   \n1  [CLS] I ' ve taken a lot of spin classes over ...   \n2  [CLS] Family diner . Had the b ##uff ##et . E ...   \n3  [CLS] Wow ! Yu ##mmy , different , delicious ....   \n4  [CLS] Cut ##e interior and owner ( ? ) gave us...   \n\n                                              labels  \n0  [-1.3565356, -0.03497186, 1.2590424, -1.082594...  \n1  [-0.23942278, -1.6310798, 0.76873416, 2.037454...  \n2  [-0.07545243, -0.03888188, -0.0024772896, -0.0...  \n3  [-1.1206474, -1.3881706, 0.5525984, -0.5197498...  \n4  [-0.64282215, 0.9417535, -0.6517764, 1.5099511...  ",
            "text/html": "<div>\n<style scoped>\n    .dataframe tbody tr th:only-of-type {\n        vertical-align: middle;\n    }\n\n    .dataframe tbody tr th {\n        vertical-align: top;\n    }\n\n    .dataframe thead th {\n        text-align: right;\n    }\n</style>\n<table border=\"1\" class=\"dataframe\">\n  <thead>\n    <tr style=\"text-align: right;\">\n      <th></th>\n      <th>user_id</th>\n      <th>business_id</th>\n      <th>stars</th>\n      <th>text</th>\n      <th>labels</th>\n    </tr>\n  </thead>\n  <tbody>\n    <tr>\n      <th>0</th>\n      <td>7445</td>\n      <td>2091</td>\n      <td>3.0</td>\n      <td>[CLS] If you decide to eat here , just be awar...</td>\n      <td>[-1.3565356, -0.03497186, 1.2590424, -1.082594...</td>\n    </tr>\n    <tr>\n      <th>1</th>\n      <td>3849</td>\n      <td>525</td>\n      <td>5.0</td>\n      <td>[CLS] I ' ve taken a lot of spin classes over ...</td>\n      <td>[-0.23942278, -1.6310798, 0.76873416, 2.037454...</td>\n    </tr>\n    <tr>\n      <th>2</th>\n      <td>1395</td>\n      <td>2179</td>\n      <td>3.0</td>\n      <td>[CLS] Family diner . Had the b ##uff ##et . E ...</td>\n      <td>[-0.07545243, -0.03888188, -0.0024772896, -0.0...</td>\n    </tr>\n    <tr>\n      <th>3</th>\n      <td>5467</td>\n      <td>2992</td>\n      <td>5.0</td>\n      <td>[CLS] Wow ! Yu ##mmy , different , delicious ....</td>\n      <td>[-1.1206474, -1.3881706, 0.5525984, -0.5197498...</td>\n    </tr>\n    <tr>\n      <th>4</th>\n      <td>5864</td>\n      <td>2555</td>\n      <td>4.0</td>\n      <td>[CLS] Cut ##e interior and owner ( ? ) gave us...</td>\n      <td>[-0.64282215, 0.9417535, -0.6517764, 1.5099511...</td>\n    </tr>\n  </tbody>\n</table>\n</div>"
          },
          "metadata": {}
        }
      ],
      "execution_count": 28,
      "metadata": {
        "jupyter": {
          "source_hidden": false,
          "outputs_hidden": false
        },
        "nteract": {
          "transient": {
            "deleting": false
          }
        },
        "gather": {
          "logged": 1671071457614
        }
      }
    },
    {
      "cell_type": "code",
      "source": [
        "train_df, test_df = train_test_split(df_features, test_size = 0.2)\n",
        "y_train = tf.convert_to_tensor(\n",
        "    train_df[\"labels\"].tolist(), dtype=float\n",
        ")\n",
        "\n",
        "y_test = tf.convert_to_tensor(\n",
        "    test_df[\"labels\"].tolist(), dtype=float\n",
        ")\n"
      ],
      "outputs": [],
      "execution_count": 29,
      "metadata": {
        "gather": {
          "logged": 1671071461271
        }
      }
    },
    {
      "cell_type": "code",
      "source": [
        "tokenizer = DebertaTokenizerFast.from_pretrained('microsoft/deberta-base')\n",
        "debertaBert = TFDebertaModel.from_pretrained('microsoft/deberta-base')"
      ],
      "outputs": [
        {
          "output_type": "stream",
          "name": "stderr",
          "text": "All model checkpoint layers were used when initializing TFDebertaModel.\n\nAll the layers of TFDebertaModel were initialized from the model checkpoint at microsoft/deberta-base.\nIf your task is similar to the task the model of the checkpoint was trained on, you can already use TFDebertaModel for predictions without further training.\n"
        }
      ],
      "execution_count": 30,
      "metadata": {
        "gather": {
          "logged": 1671071465984
        }
      }
    },
    {
      "cell_type": "code",
      "source": [
        "x_train = tokenizer(\n",
        "    text=train_df.text.tolist(),\n",
        "    add_special_tokens=True,\n",
        "    max_length=120,\n",
        "    truncation=True,\n",
        "    padding=True, \n",
        "    return_tensors='tf',\n",
        "    return_token_type_ids = False,\n",
        "    return_attention_mask = True,\n",
        "    verbose = True)\n",
        "x_test = tokenizer(\n",
        "    text=test_df.text.tolist(),\n",
        "    add_special_tokens=True,\n",
        "    max_length=120,\n",
        "    truncation=True,\n",
        "    padding=True, \n",
        "    return_tensors='tf',\n",
        "    return_token_type_ids = False,\n",
        "    return_attention_mask = True,\n",
        "    verbose = True)"
      ],
      "outputs": [],
      "execution_count": 31,
      "metadata": {
        "gather": {
          "logged": 1671071487146
        }
      }
    },
    {
      "cell_type": "code",
      "source": [
        "input_ids = x_train['input_ids']\n",
        "attention_mask = x_train['attention_mask']"
      ],
      "outputs": [],
      "execution_count": 32,
      "metadata": {
        "gather": {
          "logged": 1671071490329
        }
      }
    },
    {
      "cell_type": "code",
      "source": [
        "import tensorflow as tf\n",
        "from tensorflow.keras.optimizers import Adam\n",
        "from tensorflow.keras.callbacks import EarlyStopping\n",
        "from tensorflow.keras.initializers import TruncatedNormal\n",
        "from tensorflow.keras.metrics import MeanSquaredError, MeanAbsolutePercentageError\n",
        "from tensorflow.keras.losses import MeanSquaredError\n",
        "from tensorflow.keras.utils import to_categorical\n",
        "from tensorflow.keras.layers import Input, Dense"
      ],
      "outputs": [],
      "execution_count": 33,
      "metadata": {
        "gather": {
          "logged": 1671071492410
        }
      }
    },
    {
      "cell_type": "code",
      "source": [
        "max_len = 120\n",
        "input_ids = Input(shape=(max_len,), dtype=tf.int32, name=\"input_ids\")\n",
        "input_mask = Input(shape=(max_len,), dtype=tf.int32, name=\"attention_mask\")\n",
        "embeddings = debertaBert(input_ids,attention_mask = input_mask)[0] \n",
        "out = tf.keras.layers.GlobalMaxPool1D()(embeddings)\n",
        "out = Dense(128, activation='relu')(out)\n",
        "out = tf.keras.layers.Dropout(0.1)(out)\n",
        "out = Dense(32,activation = 'relu')(out)\n",
        "y = Dense(20,activation = 'linear')(out)\n",
        "model = tf.keras.Model(inputs=[input_ids, input_mask], outputs=y)\n",
        "model.layers[2].trainable = True"
      ],
      "outputs": [],
      "execution_count": 34,
      "metadata": {
        "gather": {
          "logged": 1671071504611
        }
      }
    },
    {
      "cell_type": "code",
      "source": [
        "optimizer = Adam(\n",
        "    learning_rate=5e-05, \n",
        "    epsilon=1e-08,\n",
        "    decay=0.01,\n",
        "    clipnorm=1.0)\n",
        "# Set loss and metrics\n",
        "loss = MeanSquaredError()\n",
        "metric = MeanSquaredError()\n",
        "# Compile the model\n",
        "model.compile(\n",
        "    optimizer = optimizer,\n",
        "    loss = loss, \n",
        "    metrics = [MeanSquaredError(),MeanAbsolutePercentageError()])"
      ],
      "outputs": [],
      "execution_count": 37,
      "metadata": {
        "gather": {
          "logged": 1671071589559
        }
      }
    },
    {
      "cell_type": "code",
      "source": [
        "train_history = model.fit(\n",
        "    x ={'input_ids':x_train['input_ids'],'attention_mask':x_train['attention_mask']} ,\n",
        "    y = y_train,\n",
        "    validation_data = (\n",
        "    {'input_ids':x_test['input_ids'],'attention_mask':x_test['attention_mask']}, y_test\n",
        "    ),\n",
        "  epochs=2,\n",
        "    batch_size=36\n",
        ")"
      ],
      "outputs": [
        {
          "output_type": "stream",
          "name": "stdout",
          "text": "Epoch 1/2\n223/223 [==============================] - 1473s 6s/step - loss: 1.1334 - mean_squared_error: 1.1340 - mean_absolute_percentage_error: 8279382.0000 - val_loss: 1.1073 - val_mean_squared_error: 1.1075 - val_mean_absolute_percentage_error: 8809984.0000\b\b\b\b\b\b\b\b\b\b\b\b\b\b\b\b\b\b\b\b\b\b\b\b\b\b\b\b\b\b\b\b\b\b\b\b\b\b\b\b\b\b\nEpoch 2/2\n223/223 [==============================] - 1427s 6s/step - loss: 1.1146 - mean_squared_error: 1.1145 - mean_absolute_percentage_error: 9312966.0000 - val_loss: 1.1059 - val_mean_squared_error: 1.1060 - val_mean_absolute_percentage_error: 9273297.0000\b\b\b\b\b\b\b\b\b\b\b\b\b\b\b\b\b\b\b\b\b\b\b\b\b\b\b\b\b\b\b\b\b\b\b\b\b\b\b\b\n"
        }
      ],
      "execution_count": 38,
      "metadata": {
        "gather": {
          "logged": 1671074496003
        }
      }
    },
    {
      "cell_type": "code",
      "source": [
        "predicted_raw = model.predict({'input_ids':x_train['input_ids'],'attention_mask':x_train['attention_mask']})\n",
        "predicted_raw[0]"
      ],
      "outputs": [
        {
          "output_type": "stream",
          "name": "stdout",
          "text": "250/250 [==============================] - 318s 1s/step\b\b\b\b\b\b\b\b\b\b\b\b\b\b\b\b\b\b\b\b\b\b\b\b\b\b\b\b\b\b\b\b\b\b\b\b\b\b\b\b\b\b\b\b\b\b\b\b\b\b\b\n"
        },
        {
          "output_type": "execute_result",
          "execution_count": 39,
          "data": {
            "text/plain": "array([-0.02401698,  0.13088457,  0.19292153,  0.26168817,  0.23475948,\n        0.32539696, -0.00720732,  0.14552552,  0.05948967,  0.13752146,\n        0.15749821,  0.1301346 ,  0.1441576 ,  0.19999973,  0.2169731 ,\n        0.25880355,  0.20896824,  0.11983024,  0.08634098,  0.15727244],\n      dtype=float32)"
          },
          "metadata": {}
        }
      ],
      "execution_count": 39,
      "metadata": {
        "gather": {
          "logged": 1671075936241
        }
      }
    },
    {
      "cell_type": "code",
      "source": [
        "y_train[0]"
      ],
      "outputs": [
        {
          "output_type": "execute_result",
          "execution_count": 40,
          "data": {
            "text/plain": "<tf.Tensor: shape=(20,), dtype=float32, numpy=\narray([-1.5919253 , -1.040932  , -0.09627575,  2.209613  ,  0.91369885,\n        2.225478  ,  0.1424232 ,  1.816099  , -1.1169858 ,  0.9107975 ,\n       -0.02778556,  0.89377743, -0.33357757,  1.2678132 , -1.0405133 ,\n       -1.347721  ,  0.0181216 , -0.660349  , -0.26294014,  1.3509326 ],\n      dtype=float32)>"
          },
          "metadata": {}
        }
      ],
      "execution_count": 40,
      "metadata": {
        "gather": {
          "logged": 1671076128162
        }
      }
    },
    {
      "cell_type": "code",
      "source": [
        "train_history.history"
      ],
      "outputs": [
        {
          "output_type": "execute_result",
          "execution_count": 41,
          "data": {
            "text/plain": "{'loss': [1.1333649158477783, 1.1146273612976074],\n 'mean_squared_error': [1.1340060234069824, 1.114458680152893],\n 'mean_absolute_percentage_error': [8279382.0, 9312966.0],\n 'val_loss': [1.107349157333374, 1.1058799028396606],\n 'val_mean_squared_error': [1.107452154159546, 1.1059629917144775],\n 'val_mean_absolute_percentage_error': [8809984.0, 9273297.0]}"
          },
          "metadata": {}
        }
      ],
      "execution_count": 41,
      "metadata": {
        "jupyter": {
          "source_hidden": false,
          "outputs_hidden": false
        },
        "nteract": {
          "transient": {
            "deleting": false
          }
        },
        "gather": {
          "logged": 1671076132495
        }
      }
    },
    {
      "cell_type": "code",
      "source": [
        "plt.plot(train_history.history['mean_squared_error'])\n",
        "plt.plot(train_history.history['val_mean_squared_error'])\n",
        "plt.title('model MSE')\n",
        "plt.ylabel('MSE')\n",
        "plt.xlabel('epoch')\n",
        "plt.legend(['Train', 'Validation'], loc='upper left')\n",
        "plt.show()"
      ],
      "outputs": [
        {
          "output_type": "display_data",
          "data": {
            "text/plain": "<Figure size 432x288 with 1 Axes>",
            "image/png": "[encoded data removed]"
          },
          "metadata": {
            "needs_background": "light"
          }
        }
      ],
      "execution_count": 42,
      "metadata": {
        "gather": {
          "logged": 1671076140414
        }
      }
    },
    {
      "cell_type": "code",
      "source": [
        "user_id = test_df['user_id'].tolist()[0]\n",
        "print(user_id)\n"
      ],
      "outputs": [
        {
          "output_type": "stream",
          "name": "stdout",
          "text": "9383\n"
        }
      ],
      "execution_count": 43,
      "metadata": {
        "jupyter": {
          "source_hidden": false,
          "outputs_hidden": false
        },
        "nteract": {
          "transient": {
            "deleting": false
          }
        },
        "gather": {
          "logged": 1671076149184
        }
      }
    },
    {
      "cell_type": "code",
      "source": [
        "newVector = np.array(predicted_raw[0])\n",
        "print(newVector)\n",
        "modelRec.user_factors[user_id]"
      ],
      "outputs": [
        {
          "output_type": "stream",
          "name": "stdout",
          "text": "[-0.02401698  0.13088457  0.19292153  0.26168817  0.23475948  0.32539696\n -0.00720732  0.14552552  0.05948967  0.13752146  0.15749821  0.1301346\n  0.1441576   0.19999973  0.2169731   0.25880355  0.20896824  0.11983024\n  0.08634098  0.15727244]\n"
        },
        {
          "output_type": "execute_result",
          "execution_count": 44,
          "data": {
            "text/plain": "array([ 0.12402124, -0.62874126, -0.09282583, -0.7370085 ,  2.6382432 ,\n       -0.20067959,  0.20862514,  3.088294  ,  2.7515104 , -1.1137679 ,\n       -1.4830273 ,  0.05226371,  1.9869531 ,  1.4972224 ,  1.7287437 ,\n        0.77877915,  0.6526263 ,  0.9462281 , -2.3563461 ,  1.609702  ],\n      dtype=float32)"
          },
          "metadata": {}
        }
      ],
      "execution_count": 44,
      "metadata": {
        "jupyter": {
          "source_hidden": false,
          "outputs_hidden": false
        },
        "nteract": {
          "transient": {
            "deleting": false
          }
        },
        "gather": {
          "logged": 1671076151618
        }
      }
    },
    {
      "cell_type": "code",
      "source": [
        "modelRec.recommend(user_id,data_conf[user_id], N = 20)"
      ],
      "outputs": [
        {
          "output_type": "execute_result",
          "execution_count": 45,
          "data": {
            "text/plain": "(array([1600, 2466, 2589, 1998,  462, 2237, 3082,  900, 3602,  630, 2383,\n        3422, 3686, 2759,  859, 3133, 3015,  705, 3152,  988], dtype=int32),\n array([1.1322532 , 1.0117424 , 0.8326085 , 0.7217466 , 0.69644755,\n        0.6713348 , 0.6505662 , 0.6139205 , 0.5803361 , 0.559798  ,\n        0.5574723 , 0.5148183 , 0.4948058 , 0.49312988, 0.49162775,\n        0.48619542, 0.47922128, 0.46713504, 0.46702182, 0.45811465],\n       dtype=float32))"
          },
          "metadata": {}
        }
      ],
      "execution_count": 45,
      "metadata": {
        "jupyter": {
          "source_hidden": false,
          "outputs_hidden": false
        },
        "nteract": {
          "transient": {
            "deleting": false
          }
        },
        "gather": {
          "logged": 1671076153665
        }
      }
    },
    {
      "cell_type": "code",
      "source": [
        "modelRec.user_factors[user_id] = newVector\n",
        "print(modelRec.recommend(user_id,data_conf[user_id], N =20))"
      ],
      "outputs": [
        {
          "output_type": "stream",
          "name": "stdout",
          "text": "(array([2866, 1442, 1415,  752, 3530, 3639, 1069, 1291, 2615,  456,  365,\n       2883, 1448,   30, 3376, 3653,  921, 2589,  900, 1898], dtype=int32), array([0.07430903, 0.06721484, 0.06637412, 0.05944141, 0.0588606 ,\n       0.0583311 , 0.0582436 , 0.05810701, 0.05808962, 0.05751678,\n       0.05740892, 0.05608143, 0.05586857, 0.05544337, 0.05524411,\n       0.05510059, 0.05357487, 0.05218003, 0.05179946, 0.05095629],\n      dtype=float32))\n"
        }
      ],
      "execution_count": 46,
      "metadata": {
        "jupyter": {
          "source_hidden": false,
          "outputs_hidden": false
        },
        "nteract": {
          "transient": {
            "deleting": false
          }
        },
        "gather": {
          "logged": 1671076156224
        }
      }
    }
  ],
  "metadata": {
    "kernelspec": {
      "name": "python38-azureml-pt-tf",
      "language": "python",
      "display_name": "Python 3.8 - Pytorch and Tensorflow"
    },
    "language_info": {
      "name": "python",
      "version": "3.8.5",
      "mimetype": "text/x-python",
      "codemirror_mode": {
        "name": "ipython",
        "version": 3
      },
      "pygments_lexer": "ipython3",
      "nbconvert_exporter": "python",
      "file_extension": ".py"
    },
    "vscode": {
      "interpreter": {
        "hash": "b984b6cd31d680ad135f7e15da2d3b38dd94d62b48019a92616e61cf3e8911ce"
      }
    },
    "kernel_info": {
      "name": "python38-azureml-pt-tf"
    },
    "microsoft": {
      "host": {
        "AzureML": {
          "notebookHasBeenCompleted": true
        }
      }
    },
    "nteract": {
      "version": "nteract-front-end@1.0.0"
    }
  },
  "nbformat": 4,
  "nbformat_minor": 2
}