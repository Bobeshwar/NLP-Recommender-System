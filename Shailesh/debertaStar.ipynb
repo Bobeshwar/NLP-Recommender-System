{
  "cells": [
    {
      "cell_type": "code",
      "source": [
        "import pandas as pd\n",
        "import tarfile\n",
        "from tqdm import tqdm\n",
        "import json\n",
        "import numpy as np\n",
        "from copy import deepcopy\n",
        "from sklearn.model_selection import train_test_split\n",
        "from sklearn import metrics\n",
        "from tensorflow.keras.utils import to_categorical\n",
        "import matplotlib.pyplot as plt\n",
        "import scipy.sparse as sparse\n",
        "import tensorflow as tf\n",
        "import os\n",
        "os.environ[\"CUDA_VISIBLE_DEVICES\"] = \"-1\"\n"
      ],
      "outputs": [],
      "execution_count": 47,
      "metadata": {
        "gather": {
          "logged": 1671076384943
        }
      }
    },
    {
      "cell_type": "code",
      "source": [
        "import transformers\n",
        "print(transformers.__version__)"
      ],
      "outputs": [],
      "execution_count": 20,
      "metadata": {
        "jupyter": {
          "source_hidden": false,
          "outputs_hidden": false
        },
        "nteract": {
          "transient": {
            "deleting": false
          }
        },
        "gather": {
          "logged": 1671071418375
        }
      }
    },
    {
      "cell_type": "code",
      "source": [
        "%pip install transformers --upgrade"
      ],
      "outputs": [
        {
          "output_type": "stream",
          "name": "stdout",
          "text": "Collecting transformers\n  Using cached transformers-4.25.1-py3-none-any.whl (5.8 MB)\nCollecting huggingface-hub<1.0,>=0.10.0\n  Downloading huggingface_hub-0.11.1-py3-none-any.whl (182 kB)\n\u001b[2K     \u001b[90m━━━━━━━━━━━━━━━━━━━━━━━━━━━━━━━━━━━━━━━\u001b[0m \u001b[32m182.4/182.4 kB\u001b[0m \u001b[31m9.9 MB/s\u001b[0m eta \u001b[36m0:00:00\u001b[0m\n\u001b[?25hCollecting regex!=2019.12.17\n  Downloading regex-2022.10.31-cp38-cp38-manylinux_2_17_x86_64.manylinux2014_x86_64.whl (772 kB)\n\u001b[2K     \u001b[90m━━━━━━━━━━━━━━━━━━━━━━━━━━━━━━━━━━━━━━\u001b[0m \u001b[32m772.3/772.3 kB\u001b[0m \u001b[31m43.2 MB/s\u001b[0m eta \u001b[36m0:00:00\u001b[0m\n\u001b[?25hRequirement already satisfied: requests in /anaconda/envs/azureml_py38_PT_TF/lib/python3.8/site-packages (from transformers) (2.28.1)\nRequirement already satisfied: packaging>=20.0 in /anaconda/envs/azureml_py38_PT_TF/lib/python3.8/site-packages (from transformers) (21.3)\nRequirement already satisfied: tqdm>=4.27 in /anaconda/envs/azureml_py38_PT_TF/lib/python3.8/site-packages (from transformers) (4.64.1)\nCollecting filelock\n  Downloading filelock-3.8.2-py3-none-any.whl (10 kB)\nRequirement already satisfied: numpy>=1.17 in /anaconda/envs/azureml_py38_PT_TF/lib/python3.8/site-packages (from transformers) (1.23.4)\nRequirement already satisfied: pyyaml>=5.1 in /anaconda/envs/azureml_py38_PT_TF/lib/python3.8/site-packages (from transformers) (6.0)\nCollecting tokenizers!=0.11.3,<0.14,>=0.11.1\n  Using cached tokenizers-0.13.2-cp38-cp38-manylinux_2_17_x86_64.manylinux2014_x86_64.whl (7.6 MB)\nRequirement already satisfied: typing-extensions>=3.7.4.3 in /anaconda/envs/azureml_py38_PT_TF/lib/python3.8/site-packages (from huggingface-hub<1.0,>=0.10.0->transformers) (4.4.0)\nRequirement already satisfied: pyparsing!=3.0.5,>=2.0.2 in /anaconda/envs/azureml_py38_PT_TF/lib/python3.8/site-packages (from packaging>=20.0->transformers) (3.0.9)\nRequirement already satisfied: certifi>=2017.4.17 in /anaconda/envs/azureml_py38_PT_TF/lib/python3.8/site-packages (from requests->transformers) (2022.9.24)\nRequirement already satisfied: charset-normalizer<3,>=2 in /anaconda/envs/azureml_py38_PT_TF/lib/python3.8/site-packages (from requests->transformers) (2.1.1)\nRequirement already satisfied: urllib3<1.27,>=1.21.1 in /anaconda/envs/azureml_py38_PT_TF/lib/python3.8/site-packages (from requests->transformers) (1.26.12)\nRequirement already satisfied: idna<4,>=2.5 in /anaconda/envs/azureml_py38_PT_TF/lib/python3.8/site-packages (from requests->transformers) (3.4)\nInstalling collected packages: tokenizers, regex, filelock, huggingface-hub, transformers\nSuccessfully installed filelock-3.8.2 huggingface-hub-0.11.1 regex-2022.10.31 tokenizers-0.13.2 transformers-4.25.1\nNote: you may need to restart the kernel to use updated packages.\n"
        }
      ],
      "execution_count": 3,
      "metadata": {
        "jupyter": {
          "source_hidden": false,
          "outputs_hidden": false
        },
        "nteract": {
          "transient": {
            "deleting": false
          }
        }
      }
    },
    {
      "cell_type": "code",
      "source": [
        "from transformers import DebertaTokenizerFast, TFDebertaModel"
      ],
      "outputs": [],
      "execution_count": 21,
      "metadata": {
        "jupyter": {
          "source_hidden": false,
          "outputs_hidden": false
        },
        "nteract": {
          "transient": {
            "deleting": false
          }
        },
        "gather": {
          "logged": 1671071422707
        }
      }
    },
    {
      "cell_type": "code",
      "source": [
        "np_load_old = np.load\n",
        "\n",
        "# modify the default parameters of np.load\n",
        "np.load = lambda *a,**k: np_load_old(*a, allow_pickle=True, **k)\n",
        "numpyArray = np.load('../Jiro/features.npy')\n",
        "np.load = np_load_old\n",
        "ratings_ = df = pd.DataFrame(numpyArray, columns = ['user_id','business_id','stars','text'])\n"
      ],
      "outputs": [],
      "execution_count": 22,
      "metadata": {
        "gather": {
          "logged": 1671071428318
        }
      }
    },
    {
      "cell_type": "code",
      "source": [
        "ratingsnew = ratings_.head(10000)\n",
        "# ratingsnew[\"stars\"].astype(float).round()\n",
        "\n",
        "for count in range(len(ratingsnew.text)):\n",
        "    ratingsnew.at[count, 'text'] = \" \".join(ratingsnew.at[count, 'text'])\n",
        "\n",
        "ratingsnew['text'] = ratingsnew['text'].astype(str)\n",
        "print(ratings_.head(1))"
      ],
      "outputs": [
        {
          "output_type": "stream",
          "name": "stderr",
          "text": "/tmp/ipykernel_24713/3368612200.py:7: SettingWithCopyWarning: \nA value is trying to be set on a copy of a slice from a DataFrame.\nTry using .loc[row_indexer,col_indexer] = value instead\n\nSee the caveats in the documentation: https://pandas.pydata.org/pandas-docs/stable/user_guide/indexing.html#returning-a-view-versus-a-copy\n  ratingsnew['text'] = ratingsnew['text'].astype(str)\n"
        }
      ],
      "execution_count": 23,
      "metadata": {
        "gather": {
          "logged": 1671071435389
        }
      }
    },
    {
      "cell_type": "code",
      "source": [
        "df_features = ratingsnew\n",
        "df_features[\"user_id\"]  = df_features['user_id'].astype(\"category\").cat.codes\n",
        "df_features[\"business_id\"]  = df_features['business_id'].astype(\"category\").cat.codes\n"
      ],
      "outputs": [
        {
          "output_type": "stream",
          "name": "stderr",
          "text": "/tmp/ipykernel_24713/2687010449.py:2: SettingWithCopyWarning: \nA value is trying to be set on a copy of a slice from a DataFrame.\nTry using .loc[row_indexer,col_indexer] = value instead\n\nSee the caveats in the documentation: https://pandas.pydata.org/pandas-docs/stable/user_guide/indexing.html#returning-a-view-versus-a-copy\n  df_features[\"user_id\"]  = df_features['user_id'].astype(\"category\").cat.codes\n/tmp/ipykernel_24713/2687010449.py:3: SettingWithCopyWarning: \nA value is trying to be set on a copy of a slice from a DataFrame.\nTry using .loc[row_indexer,col_indexer] = value instead\n\nSee the caveats in the documentation: https://pandas.pydata.org/pandas-docs/stable/user_guide/indexing.html#returning-a-view-versus-a-copy\n  df_features[\"business_id\"]  = df_features['business_id'].astype(\"category\").cat.codes\n"
        }
      ],
      "execution_count": 24,
      "metadata": {
        "gather": {
          "logged": 1671071438291
        }
      }
    },
    {
      "cell_type": "code",
      "source": [
        "train_df, test_df = train_test_split(df_features, test_size = 0.2)\n",
        "\n",
        "y_train = tf.convert_to_tensor(train_df[\"stars\"],dtype = \"float\")\n",
        "y_test = tf.convert_to_tensor(test_df[\"stars\"],dtype = \"float\")\n"
      ],
      "outputs": [],
      "execution_count": 48,
      "metadata": {
        "gather": {
          "logged": 1671076435695
        }
      }
    },
    {
      "cell_type": "code",
      "source": [
        "tokenizer = DebertaTokenizerFast.from_pretrained('microsoft/deberta-base')\n",
        "debertaBert = TFDebertaModel.from_pretrained('microsoft/deberta-base')"
      ],
      "outputs": [
        {
          "output_type": "stream",
          "name": "stderr",
          "text": "All model checkpoint layers were used when initializing TFDebertaModel.\n\nAll the layers of TFDebertaModel were initialized from the model checkpoint at microsoft/deberta-base.\nIf your task is similar to the task the model of the checkpoint was trained on, you can already use TFDebertaModel for predictions without further training.\n"
        }
      ],
      "execution_count": 49,
      "metadata": {
        "gather": {
          "logged": 1671076442453
        }
      }
    },
    {
      "cell_type": "code",
      "source": [
        "x_train = tokenizer(\n",
        "    text=train_df.text.tolist(),\n",
        "    add_special_tokens=True,\n",
        "    max_length=120,\n",
        "    truncation=True,\n",
        "    padding=True, \n",
        "    return_tensors='tf',\n",
        "    return_token_type_ids = False,\n",
        "    return_attention_mask = True,\n",
        "    verbose = True)\n",
        "x_test = tokenizer(\n",
        "    text=test_df.text.tolist(),\n",
        "    add_special_tokens=True,\n",
        "    max_length=120,\n",
        "    truncation=True,\n",
        "    padding=True, \n",
        "    return_tensors='tf',\n",
        "    return_token_type_ids = False,\n",
        "    return_attention_mask = True,\n",
        "    verbose = True)"
      ],
      "outputs": [],
      "execution_count": 50,
      "metadata": {
        "gather": {
          "logged": 1671076449914
        }
      }
    },
    {
      "cell_type": "code",
      "source": [
        "input_ids = x_train['input_ids']\n",
        "attention_mask = x_train['attention_mask']"
      ],
      "outputs": [],
      "execution_count": 52,
      "metadata": {
        "gather": {
          "logged": 1671076474341
        }
      }
    },
    {
      "cell_type": "code",
      "source": [
        "import tensorflow as tf\n",
        "from tensorflow.keras.optimizers import Adam\n",
        "from tensorflow.keras.callbacks import EarlyStopping\n",
        "from tensorflow.keras.initializers import TruncatedNormal\n",
        "from tensorflow.keras.metrics import MeanSquaredError, MeanAbsolutePercentageError\n",
        "from tensorflow.keras.losses import MeanSquaredError\n",
        "from tensorflow.keras.utils import to_categorical\n",
        "from tensorflow.keras.layers import Input, Dense"
      ],
      "outputs": [],
      "execution_count": 33,
      "metadata": {
        "gather": {
          "logged": 1671071492410
        }
      }
    },
    {
      "cell_type": "code",
      "source": [
        "max_len = 120\n",
        "input_ids = Input(shape=(max_len,), dtype=tf.int32, name=\"input_ids\")\n",
        "input_mask = Input(shape=(max_len,), dtype=tf.int32, name=\"attention_mask\")\n",
        "embeddings = debertaBert(input_ids,attention_mask = input_mask)[0] \n",
        "out = tf.keras.layers.GlobalMaxPool1D()(embeddings)\n",
        "out = Dense(128, activation='relu')(out)\n",
        "out = tf.keras.layers.Dropout(0.1)(out)\n",
        "out = Dense(32,activation = 'relu')(out)\n",
        "y = Dense(20,activation = 'linear')(out)\n",
        "model = tf.keras.Model(inputs=[input_ids, input_mask], outputs=y)\n",
        "model.layers[2].trainable = True"
      ],
      "outputs": [],
      "execution_count": 53,
      "metadata": {
        "gather": {
          "logged": 1671076479937
        }
      }
    },
    {
      "cell_type": "code",
      "source": [
        "optimizer = Adam(\n",
        "    learning_rate=5e-05, \n",
        "    epsilon=1e-08,\n",
        "    decay=0.01,\n",
        "    clipnorm=1.0)\n",
        "# Set loss and metrics\n",
        "loss = MeanSquaredError()\n",
        "metric = MeanSquaredError()\n",
        "# Compile the model\n",
        "model.compile(\n",
        "    optimizer = optimizer,\n",
        "    loss = loss, \n",
        "    metrics = [MeanSquaredError(),MeanAbsolutePercentageError()])"
      ],
      "outputs": [],
      "execution_count": 54,
      "metadata": {
        "gather": {
          "logged": 1671076492414
        }
      }
    },
    {
      "cell_type": "code",
      "source": [
        "train_history = model.fit(\n",
        "    x ={'input_ids':x_train['input_ids'],'attention_mask':x_train['attention_mask']} ,\n",
        "    y = y_train,\n",
        "    validation_data = (\n",
        "    {'input_ids':x_test['input_ids'],'attention_mask':x_test['attention_mask']}, y_test\n",
        "    ),\n",
        "  epochs=2,\n",
        "    batch_size=36\n",
        ")"
      ],
      "outputs": [
        {
          "output_type": "stream",
          "name": "stdout",
          "text": "Epoch 1/2\n223/223 [==============================] - 1445s 6s/step - loss: 4.8566 - mean_squared_error: 4.8561 - mean_absolute_percentage_error: 50.2321 - val_loss: 3.2037 - val_mean_squared_error: 3.1996 - val_mean_absolute_percentage_error: 40.2387\b\b\b\b\b\b\b\b\b\b\b\b\b\b\b\b\b\b\b\b\b\b\b\b\b\b\b\b\b\b\b\b\b\b\b\b\b\b\b\b\b\b\b\b\b\b\nEpoch 2/2\n223/223 [==============================] - 1404s 6s/step - loss: 3.3063 - mean_squared_error: 3.3061 - mean_absolute_percentage_error: 39.9466 - val_loss: 2.7278 - val_mean_squared_error: 2.7234 - val_mean_absolute_percentage_error: 37.1662\b\b\b\b\b\b\b\b\b\b\b\b\b\b\b\b\b\b\b\b\b\b\b\b\b\b\b\b\b\b\b\b\b\b\b\b\b\b\n"
        }
      ],
      "execution_count": 55,
      "metadata": {
        "gather": {
          "logged": 1671079354621
        }
      }
    },
    {
      "cell_type": "code",
      "source": [
        "predicted_raw = model.predict({'input_ids':x_train['input_ids'],'attention_mask':x_train['attention_mask']})\n",
        "predicted_raw[0]"
      ],
      "outputs": [
        {
          "output_type": "stream",
          "name": "stdout",
          "text": "250/250 [==============================] - 320s 1s/step\b\b\b\b\b\b\b\b\b\b\b\b\b\b\b\b\b\b\b\b\b\b\b\b\b\b\b\b\b\b\b\b\b\b\b\b\b\b\b\b\b\b\b\b\b\b\b\b\b\b\b\n"
        },
        {
          "output_type": "execute_result",
          "execution_count": 56,
          "data": {
            "text/plain": "array([3.8690703, 2.5538368, 1.3030386, 1.3228643, 3.2824686, 4.7626166,\n       2.5232413, 2.3409605, 4.3311543, 3.1297278, 3.950972 , 2.5014076,\n       0.9341877, 4.0647435, 1.8294361, 1.9859731, 2.2874024, 3.9332557,\n       2.5586827, 1.9963276], dtype=float32)"
          },
          "metadata": {}
        }
      ],
      "execution_count": 56,
      "metadata": {
        "gather": {
          "logged": 1671079732093
        }
      }
    },
    {
      "cell_type": "code",
      "source": [
        "y_train[0]"
      ],
      "outputs": [
        {
          "output_type": "execute_result",
          "execution_count": 57,
          "data": {
            "text/plain": "<tf.Tensor: shape=(), dtype=float32, numpy=3.0>"
          },
          "metadata": {}
        }
      ],
      "execution_count": 57,
      "metadata": {
        "gather": {
          "logged": 1671079735062
        }
      }
    },
    {
      "cell_type": "code",
      "source": [
        "train_history.history"
      ],
      "outputs": [
        {
          "output_type": "execute_result",
          "execution_count": 58,
          "data": {
            "text/plain": "{'loss': [4.856601238250732, 3.3063392639160156],\n 'mean_squared_error': [4.856143474578857, 3.3061487674713135],\n 'mean_absolute_percentage_error': [50.23214340209961, 39.946571350097656],\n 'val_loss': [3.2036819458007812, 2.72780704498291],\n 'val_mean_squared_error': [3.19964337348938, 2.723433017730713],\n 'val_mean_absolute_percentage_error': [40.23869323730469, 37.16620635986328]}"
          },
          "metadata": {}
        }
      ],
      "execution_count": 58,
      "metadata": {
        "jupyter": {
          "source_hidden": false,
          "outputs_hidden": false
        },
        "nteract": {
          "transient": {
            "deleting": false
          }
        },
        "gather": {
          "logged": 1671079737033
        }
      }
    },
    {
      "cell_type": "code",
      "source": [
        "plt.plot(train_history.history['mean_squared_error'])\n",
        "plt.plot(train_history.history['val_mean_squared_error'])\n",
        "plt.title('model MSE')\n",
        "plt.ylabel('MSE')\n",
        "plt.xlabel('epoch')\n",
        "plt.legend(['Train', 'Validation'], loc='upper left')\n",
        "plt.show()"
      ],
      "outputs": [
        {
          "output_type": "display_data",
          "data": {
            "text/plain": "<Figure size 432x288 with 1 Axes>",
            "image/png": "[encoded data removed]"
          },
          "metadata": {
            "needs_background": "light"
          }
        }
      ],
      "execution_count": 59,
      "metadata": {
        "gather": {
          "logged": 1671079739438
        }
      }
    },
    {
      "cell_type": "code",
      "source": [
        "user_id = test_df['user_id'].tolist()[0]\n",
        "print(user_id)\n"
      ],
      "outputs": [
        {
          "output_type": "stream",
          "name": "stdout",
          "text": "3628\n"
        }
      ],
      "execution_count": 60,
      "metadata": {
        "jupyter": {
          "source_hidden": false,
          "outputs_hidden": false
        },
        "nteract": {
          "transient": {
            "deleting": false
          }
        },
        "gather": {
          "logged": 1671079741873
        }
      }
    },
    {
      "cell_type": "code",
      "source": [
        "newVector = np.array(predicted_raw[0])\n",
        "print(newVector)\n",
        "modelRec.user_factors[user_id]"
      ],
      "outputs": [
        {
          "output_type": "stream",
          "name": "stdout",
          "text": "[3.8690703 2.5538368 1.3030386 1.3228643 3.2824686 4.7626166 2.5232413\n 2.3409605 4.3311543 3.1297278 3.950972  2.5014076 0.9341877 4.0647435\n 1.8294361 1.9859731 2.2874024 3.9332557 2.5586827 1.9963276]\n"
        },
        {
          "output_type": "execute_result",
          "execution_count": 61,
          "data": {
            "text/plain": "array([ 1.6327069 , -1.1186224 , -0.51947415,  1.8651513 , -1.5703689 ,\n        0.63484627,  0.4026803 , -0.8803735 , -0.26417908,  0.22944403,\n       -0.12487555, -0.24278536, -0.13926682,  1.871646  ,  1.6769218 ,\n       -0.32197753,  0.79706585,  0.56324595,  0.19044511,  0.16101734],\n      dtype=float32)"
          },
          "metadata": {}
        }
      ],
      "execution_count": 61,
      "metadata": {
        "jupyter": {
          "source_hidden": false,
          "outputs_hidden": false
        },
        "nteract": {
          "transient": {
            "deleting": false
          }
        },
        "gather": {
          "logged": 1671079743721
        }
      }
    },
    {
      "cell_type": "code",
      "source": [
        "modelRec.recommend(user_id,data_conf[user_id], N = 20)"
      ],
      "outputs": [
        {
          "output_type": "execute_result",
          "execution_count": 62,
          "data": {
            "text/plain": "(array([ 365, 2238,  894, 3574,  227, 2173, 2664, 3060, 3345, 2285,  147,\n         260, 1842, 3049, 1392,  807, 2549,  799, 2336, 3562], dtype=int32),\n array([0.49891418, 0.4925411 , 0.478934  , 0.44845256, 0.40253654,\n        0.37041733, 0.32801273, 0.31899872, 0.31639338, 0.30975065,\n        0.30439156, 0.29587573, 0.29384026, 0.29287043, 0.2916321 ,\n        0.28546637, 0.28343126, 0.2813313 , 0.2806907 , 0.27941906],\n       dtype=float32))"
          },
          "metadata": {}
        }
      ],
      "execution_count": 62,
      "metadata": {
        "jupyter": {
          "source_hidden": false,
          "outputs_hidden": false
        },
        "nteract": {
          "transient": {
            "deleting": false
          }
        },
        "gather": {
          "logged": 1671079746362
        }
      }
    },
    {
      "cell_type": "code",
      "source": [
        "modelRec.user_factors[user_id] = newVector\n",
        "print(modelRec.recommend(user_id,data_conf[user_id], N =20))"
      ],
      "outputs": [
        {
          "output_type": "stream",
          "name": "stdout",
          "text": "(array([ 988,  926, 2293, 2580,  982, 3049,  900, 3286, 3251,   30, 1540,\n       1007,  630,  752, 1998,  193, 2689, 3551, 3750, 3611], dtype=int32), array([1.248483  , 1.1825048 , 1.1735963 , 1.1502202 , 1.1359893 ,\n       1.1031394 , 1.0633372 , 1.0319003 , 1.0169922 , 0.9854347 ,\n       0.9522978 , 0.95222306, 0.948167  , 0.9355012 , 0.93427306,\n       0.9127747 , 0.9102833 , 0.8984913 , 0.8866327 , 0.8834594 ],\n      dtype=float32))\n"
        }
      ],
      "execution_count": 63,
      "metadata": {
        "jupyter": {
          "source_hidden": false,
          "outputs_hidden": false
        },
        "nteract": {
          "transient": {
            "deleting": false
          }
        },
        "gather": {
          "logged": 1671079748377
        }
      }
    }
  ],
  "metadata": {
    "kernelspec": {
      "name": "python38-azureml-pt-tf",
      "language": "python",
      "display_name": "Python 3.8 - Pytorch and Tensorflow"
    },
    "language_info": {
      "name": "python",
      "version": "3.8.5",
      "mimetype": "text/x-python",
      "codemirror_mode": {
        "name": "ipython",
        "version": 3
      },
      "pygments_lexer": "ipython3",
      "nbconvert_exporter": "python",
      "file_extension": ".py"
    },
    "vscode": {
      "interpreter": {
        "hash": "b984b6cd31d680ad135f7e15da2d3b38dd94d62b48019a92616e61cf3e8911ce"
      }
    },
    "kernel_info": {
      "name": "python38-azureml-pt-tf"
    },
    "microsoft": {
      "host": {
        "AzureML": {
          "notebookHasBeenCompleted": true
        }
      }
    },
    "nteract": {
      "version": "nteract-front-end@1.0.0"
    }
  },
  "nbformat": 4,
  "nbformat_minor": 2
}