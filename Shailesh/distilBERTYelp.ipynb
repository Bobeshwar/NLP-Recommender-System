{
  "cells": [
    {
      "cell_type": "code",
      "source": [
        "import pandas as pd\n",
        "import tarfile\n",
        "from tqdm import tqdm\n",
        "import json\n",
        "import numpy as np\n",
        "from copy import deepcopy\n",
        "from sklearn.model_selection import train_test_split\n",
        "from sklearn import metrics\n",
        "from tensorflow.keras.utils import to_categorical\n",
        "import matplotlib.pyplot as plt\n",
        "import scipy.sparse as sparse\n",
        "import tensorflow as tf\n",
        "from transformers import DistilBertTokenizerFast, TFDistilBertModel\n",
        "import os\n",
        "os.environ[\"CUDA_VISIBLE_DEVICES\"] = \"-1\"\n"
      ],
      "outputs": [],
      "execution_count": 19,
      "metadata": {
        "gather": {
          "logged": 1671080282032
        }
      }
    },
    {
      "cell_type": "code",
      "source": [
        "np_load_old = np.load\n",
        "\n",
        "# modify the default parameters of np.load\n",
        "np.load = lambda *a,**k: np_load_old(*a, allow_pickle=True, **k)\n",
        "numpyArray = np.load('../Jiro/features.npy')\n",
        "np.load = np_load_old\n",
        "ratings_ = df = pd.DataFrame(numpyArray, columns = ['user_id','business_id','stars','text'])\n"
      ],
      "outputs": [],
      "execution_count": 20,
      "metadata": {
        "gather": {
          "logged": 1671080285528
        }
      }
    },
    {
      "cell_type": "code",
      "source": [
        "ratingsnew = ratings_.head(10000)\n",
        "# ratingsnew[\"stars\"].astype(float).round()\n",
        "\n",
        "for count in range(len(ratingsnew.text)):\n",
        "    ratingsnew.at[count, 'text'] = \" \".join(ratingsnew.at[count, 'text'])\n",
        "\n",
        "ratingsnew['text'] = ratingsnew['text'].astype(str)\n",
        "print(ratings_.head(1))"
      ],
      "outputs": [
        {
          "output_type": "stream",
          "name": "stdout",
          "text": "                  user_id             business_id stars  \\\n0  mh_-eMZ6K5RLWhZyISBhwA  XQfwVwDr-v0ZS3_CbbE5Xw   3.0   \n\n                                                text  \n0  [CLS] If you decide to eat here , just be awar...  \n"
        }
      ],
      "execution_count": 21,
      "metadata": {
        "gather": {
          "logged": 1671080290157
        }
      }
    },
    {
      "cell_type": "code",
      "source": [
        "df_features = ratingsnew\n",
        "df_features[\"user_id\"]  = df_features['user_id'].astype(\"category\").cat.codes\n",
        "df_features[\"business_id\"]  = df_features['business_id'].astype(\"category\").cat.codes\n"
      ],
      "outputs": [
        {
          "output_type": "stream",
          "name": "stderr",
          "text": "/tmp/ipykernel_34204/2687010449.py:2: SettingWithCopyWarning: \nA value is trying to be set on a copy of a slice from a DataFrame.\nTry using .loc[row_indexer,col_indexer] = value instead\n\nSee the caveats in the documentation: https://pandas.pydata.org/pandas-docs/stable/user_guide/indexing.html#returning-a-view-versus-a-copy\n  df_features[\"user_id\"]  = df_features['user_id'].astype(\"category\").cat.codes\n/tmp/ipykernel_34204/2687010449.py:3: SettingWithCopyWarning: \nA value is trying to be set on a copy of a slice from a DataFrame.\nTry using .loc[row_indexer,col_indexer] = value instead\n\nSee the caveats in the documentation: https://pandas.pydata.org/pandas-docs/stable/user_guide/indexing.html#returning-a-view-versus-a-copy\n  df_features[\"business_id\"]  = df_features['business_id'].astype(\"category\").cat.codes\n"
        }
      ],
      "execution_count": 22,
      "metadata": {
        "gather": {
          "logged": 1671080293299
        }
      }
    },
    {
      "cell_type": "code",
      "source": [
        "sparse_item_user = sparse.csr_matrix((df_features['stars'].astype('float'), (df_features['user_id'], df_features['business_id'])))\n",
        "sparse_user_item = sparse.csr_matrix((df_features['stars'].astype('float'),  (df_features['business_id'],df_features['user_id'])))\n"
      ],
      "outputs": [],
      "execution_count": 23,
      "metadata": {
        "jupyter": {
          "source_hidden": false,
          "outputs_hidden": false
        },
        "nteract": {
          "transient": {
            "deleting": false
          }
        },
        "gather": {
          "logged": 1671080296077
        }
      }
    },
    {
      "cell_type": "code",
      "source": [
        "%pip install implicit"
      ],
      "outputs": [
        {
          "output_type": "stream",
          "name": "stdout",
          "text": "Collecting implicit\n  Downloading implicit-0.6.2-cp38-cp38-manylinux2014_x86_64.whl (18.6 MB)\n\u001b[K     |████████████████████████████████| 18.6 MB 6.7 MB/s eta 0:00:01\n\u001b[?25hRequirement already satisfied: numpy in /anaconda/envs/azureml_py38/lib/python3.8/site-packages (from implicit) (1.21.6)\nRequirement already satisfied: scipy>=0.16 in /anaconda/envs/azureml_py38/lib/python3.8/site-packages (from implicit) (1.5.3)\nRequirement already satisfied: tqdm>=4.27 in /anaconda/envs/azureml_py38/lib/python3.8/site-packages (from implicit) (4.64.1)\nInstalling collected packages: implicit\nSuccessfully installed implicit-0.6.2\nNote: you may need to restart the kernel to use updated packages.\n"
        }
      ],
      "execution_count": 7,
      "metadata": {
        "jupyter": {
          "source_hidden": false,
          "outputs_hidden": false
        },
        "nteract": {
          "transient": {
            "deleting": false
          }
        }
      }
    },
    {
      "cell_type": "code",
      "source": [
        "import implicit"
      ],
      "outputs": [],
      "execution_count": 24,
      "metadata": {
        "jupyter": {
          "source_hidden": false,
          "outputs_hidden": false
        },
        "nteract": {
          "transient": {
            "deleting": false
          }
        },
        "gather": {
          "logged": 1671080298695
        }
      }
    },
    {
      "cell_type": "code",
      "source": [
        "modelRec = implicit.als.AlternatingLeastSquares(factors=20, regularization=0.1, iterations=20)\n",
        "\n",
        "\n",
        "alpha_val = 40\n",
        "data_conf = (sparse_item_user * alpha_val).astype('double')\n",
        "\n",
        "\n",
        "modelRec.fit(data_conf)\n"
      ],
      "outputs": [
        {
          "output_type": "stream",
          "name": "stderr",
          "text": "\r  0%|          | 0/20 [00:00<?, ?it/s]\r100%|██████████| 20/20 [00:00<00:00, 239.02it/s]\n"
        }
      ],
      "execution_count": 25,
      "metadata": {
        "jupyter": {
          "source_hidden": false,
          "outputs_hidden": false
        },
        "nteract": {
          "transient": {
            "deleting": false
          }
        },
        "gather": {
          "logged": 1671080301126
        }
      }
    },
    {
      "cell_type": "code",
      "source": [
        "df_features[\"labels\"] = df_features.apply(lambda row: modelRec.user_factors[row['user_id']],axis=1)\n",
        "df_features.head()"
      ],
      "outputs": [
        {
          "output_type": "stream",
          "name": "stderr",
          "text": "/tmp/ipykernel_34204/3483575756.py:1: SettingWithCopyWarning: \nA value is trying to be set on a copy of a slice from a DataFrame.\nTry using .loc[row_indexer,col_indexer] = value instead\n\nSee the caveats in the documentation: https://pandas.pydata.org/pandas-docs/stable/user_guide/indexing.html#returning-a-view-versus-a-copy\n  df_features[\"labels\"] = df_features.apply(lambda row: modelRec.user_factors[row['user_id']],axis=1)\n"
        },
        {
          "output_type": "execute_result",
          "execution_count": 26,
          "data": {
            "text/plain": "   user_id  business_id stars  \\\n0     7445         2091   3.0   \n1     3849          525   5.0   \n2     1395         2179   3.0   \n3     5467         2992   5.0   \n4     5864         2555   4.0   \n\n                                                text  \\\n0  [CLS] If you decide to eat here , just be awar...   \n1  [CLS] I ' ve taken a lot of spin classes over ...   \n2  [CLS] Family diner . Had the b ##uff ##et . E ...   \n3  [CLS] Wow ! Yu ##mmy , different , delicious ....   \n4  [CLS] Cut ##e interior and owner ( ? ) gave us...   \n\n                                              labels  \n0  [-0.19312422, 1.4302356, 0.08076221, -1.12314,...  \n1  [-0.78198993, -1.1078973, -1.738901, 1.8977867...  \n2  [0.044064663, -0.012546215, -0.029700937, 0.06...  \n3  [-1.6785535, -1.1172565, 1.0333899, 0.7713539,...  \n4  [-1.1951275, -0.54739237, -0.59064925, -0.8023...  ",
            "text/html": "<div>\n<style scoped>\n    .dataframe tbody tr th:only-of-type {\n        vertical-align: middle;\n    }\n\n    .dataframe tbody tr th {\n        vertical-align: top;\n    }\n\n    .dataframe thead th {\n        text-align: right;\n    }\n</style>\n<table border=\"1\" class=\"dataframe\">\n  <thead>\n    <tr style=\"text-align: right;\">\n      <th></th>\n      <th>user_id</th>\n      <th>business_id</th>\n      <th>stars</th>\n      <th>text</th>\n      <th>labels</th>\n    </tr>\n  </thead>\n  <tbody>\n    <tr>\n      <th>0</th>\n      <td>7445</td>\n      <td>2091</td>\n      <td>3.0</td>\n      <td>[CLS] If you decide to eat here , just be awar...</td>\n      <td>[-0.19312422, 1.4302356, 0.08076221, -1.12314,...</td>\n    </tr>\n    <tr>\n      <th>1</th>\n      <td>3849</td>\n      <td>525</td>\n      <td>5.0</td>\n      <td>[CLS] I ' ve taken a lot of spin classes over ...</td>\n      <td>[-0.78198993, -1.1078973, -1.738901, 1.8977867...</td>\n    </tr>\n    <tr>\n      <th>2</th>\n      <td>1395</td>\n      <td>2179</td>\n      <td>3.0</td>\n      <td>[CLS] Family diner . Had the b ##uff ##et . E ...</td>\n      <td>[0.044064663, -0.012546215, -0.029700937, 0.06...</td>\n    </tr>\n    <tr>\n      <th>3</th>\n      <td>5467</td>\n      <td>2992</td>\n      <td>5.0</td>\n      <td>[CLS] Wow ! Yu ##mmy , different , delicious ....</td>\n      <td>[-1.6785535, -1.1172565, 1.0333899, 0.7713539,...</td>\n    </tr>\n    <tr>\n      <th>4</th>\n      <td>5864</td>\n      <td>2555</td>\n      <td>4.0</td>\n      <td>[CLS] Cut ##e interior and owner ( ? ) gave us...</td>\n      <td>[-1.1951275, -0.54739237, -0.59064925, -0.8023...</td>\n    </tr>\n  </tbody>\n</table>\n</div>"
          },
          "metadata": {}
        }
      ],
      "execution_count": 26,
      "metadata": {
        "jupyter": {
          "source_hidden": false,
          "outputs_hidden": false
        },
        "nteract": {
          "transient": {
            "deleting": false
          }
        },
        "gather": {
          "logged": 1671080304128
        }
      }
    },
    {
      "cell_type": "code",
      "source": [
        "train_df, test_df = train_test_split(df_features, test_size = 0.2)\n",
        "y_train = tf.convert_to_tensor(\n",
        "     train_df[\"labels\"].tolist(), dtype=float\n",
        ")\n",
        "\n",
        "y_test = tf.convert_to_tensor(\n",
        "     test_df[\"labels\"].tolist(), dtype=float\n",
        ")\n",
        "\n"
      ],
      "outputs": [],
      "execution_count": 28,
      "metadata": {
        "gather": {
          "logged": 1671080340685
        }
      }
    },
    {
      "cell_type": "code",
      "source": [
        "tokenizer = DistilBertTokenizerFast.from_pretrained('distilbert-base-uncased')\n",
        "distilBert = TFDistilBertModel.from_pretrained('distilbert-base-uncased')"
      ],
      "outputs": [
        {
          "output_type": "stream",
          "name": "stderr",
          "text": "Some layers from the model checkpoint at distilbert-base-uncased were not used when initializing TFDistilBertModel: ['activation_13', 'vocab_layer_norm', 'vocab_projector', 'vocab_transform']\n- This IS expected if you are initializing TFDistilBertModel from the checkpoint of a model trained on another task or with another architecture (e.g. initializing a BertForSequenceClassification model from a BertForPreTraining model).\n- This IS NOT expected if you are initializing TFDistilBertModel from the checkpoint of a model that you expect to be exactly identical (initializing a BertForSequenceClassification model from a BertForSequenceClassification model).\nAll the layers of TFDistilBertModel were initialized from the model checkpoint at distilbert-base-uncased.\nIf your task is similar to the task the model of the checkpoint was trained on, you can already use TFDistilBertModel for predictions without further training.\n"
        }
      ],
      "execution_count": 29,
      "metadata": {
        "gather": {
          "logged": 1671080345546
        }
      }
    },
    {
      "cell_type": "code",
      "source": [
        "x_train = tokenizer(\n",
        "    text=train_df.text.tolist(),\n",
        "    add_special_tokens=True,\n",
        "    max_length=512,\n",
        "    truncation=True,\n",
        "    padding=True, \n",
        "    return_tensors='tf',\n",
        "    return_token_type_ids = False,\n",
        "    return_attention_mask = True,\n",
        "    verbose = True)\n",
        "x_test = tokenizer(\n",
        "    text=test_df.text.tolist(),\n",
        "    add_special_tokens=True,\n",
        "    max_length=512,\n",
        "    truncation=True,\n",
        "    padding=True, \n",
        "    return_tensors='tf',\n",
        "    return_token_type_ids = False,\n",
        "    return_attention_mask = True,\n",
        "    verbose = True)"
      ],
      "outputs": [],
      "execution_count": 30,
      "metadata": {
        "gather": {
          "logged": 1671080359816
        }
      }
    },
    {
      "cell_type": "code",
      "source": [
        "input_ids = x_train['input_ids']\n",
        "attention_mask = x_train['attention_mask']"
      ],
      "outputs": [],
      "execution_count": 31,
      "metadata": {
        "gather": {
          "logged": 1671080362129
        }
      }
    },
    {
      "cell_type": "code",
      "source": [
        "import tensorflow as tf\n",
        "from tensorflow.keras.optimizers import Adam\n",
        "from tensorflow.keras.callbacks import EarlyStopping\n",
        "from tensorflow.keras.initializers import TruncatedNormal\n",
        "from tensorflow.keras.metrics import MeanSquaredError, MeanAbsolutePercentageError\n",
        "from tensorflow.keras.losses import MeanSquaredError\n",
        "from tensorflow.keras.utils import to_categorical\n",
        "from tensorflow.keras.layers import Input, Dense"
      ],
      "outputs": [],
      "execution_count": 32,
      "metadata": {
        "gather": {
          "logged": 1671080368563
        }
      }
    },
    {
      "cell_type": "code",
      "source": [
        "max_len = 512\n",
        "input_ids = Input(shape=(max_len,), dtype=tf.int32, name=\"input_ids\")\n",
        "input_mask = Input(shape=(max_len,), dtype=tf.int32, name=\"attention_mask\")\n",
        "embeddings = distilBert(input_ids,attention_mask = input_mask)[0] \n",
        "out = tf.keras.layers.GlobalMaxPool1D()(embeddings)\n",
        "out = Dense(128, activation='relu')(out)\n",
        "out = tf.keras.layers.Dropout(0.1)(out)\n",
        "out = Dense(32,activation = 'relu')(out)\n",
        "y = Dense(20,activation = 'linear')(out)\n",
        "model = tf.keras.Model(inputs=[input_ids, input_mask], outputs=y)\n",
        "model.layers[2].trainable = True"
      ],
      "outputs": [],
      "execution_count": 33,
      "metadata": {
        "gather": {
          "logged": 1671080374603
        }
      }
    },
    {
      "cell_type": "code",
      "source": [
        "optimizer = Adam(\n",
        "    learning_rate=5e-05, \n",
        "    epsilon=1e-08,\n",
        "    decay=0.01,\n",
        "    clipnorm=1.0)\n",
        "# Set loss and metrics\n",
        "loss = MeanSquaredError()\n",
        "metric = MeanSquaredError()\n",
        "# Compile the model\n",
        "model.compile(\n",
        "    optimizer = optimizer,\n",
        "    loss = loss, \n",
        "    metrics = [MeanSquaredError(),MeanAbsolutePercentageError()])"
      ],
      "outputs": [],
      "execution_count": 34,
      "metadata": {
        "gather": {
          "logged": 1671080377329
        }
      }
    },
    {
      "cell_type": "code",
      "source": [
        "train_history = model.fit(\n",
        "    x ={'input_ids':x_train['input_ids'],'attention_mask':x_train['attention_mask']} ,\n",
        "    y = y_train,\n",
        "    validation_data = (\n",
        "    {'input_ids':x_test['input_ids'],'attention_mask':x_test['attention_mask']}, y_test\n",
        "    ),\n",
        "  epochs=2,\n",
        "    batch_size=36\n",
        ")"
      ],
      "outputs": [
        {
          "output_type": "stream",
          "name": "stdout",
          "text": "Epoch 1/2\n223/223 [==============================] - 2515s 11s/step - loss: 1.1166 - mean_squared_error: 1.1176 - mean_absolute_percentage_error: 9530848.0000 - val_loss: 1.1109 - val_mean_squared_error: 1.1106 - val_mean_absolute_percentage_error: 7921848.5000\b\b\b\b\b\b\b\b\b\b\b\b\b\b\b\b\b\b\b\b\b\b\b\b\b\b\b\b\b\b\b\b\b\b\b\b\b\b\b\b\b\b\b\nEpoch 2/2\n223/223 [==============================] - 2589s 12s/step - loss: 1.1061 - mean_squared_error: 1.1067 - mean_absolute_percentage_error: 9114881.0000 - val_loss: 1.1099 - val_mean_squared_error: 1.1097 - val_mean_absolute_percentage_error: 8715877.0000\b\b\b\b\b\b\b\b\b\b\b\b\b\b\b\b\b\b\b\b\b\b\b\b\b\b\b\b\b\b\b\b\b\b\b\b\b\b\b\n"
        }
      ],
      "execution_count": 35,
      "metadata": {
        "gather": {
          "logged": 1671085484390
        }
      }
    },
    {
      "cell_type": "code",
      "source": [
        "predicted_raw = model.predict({'input_ids':x_train['input_ids'],'attention_mask':x_train['attention_mask']})\n",
        "predicted_raw[0]"
      ],
      "outputs": [
        {
          "output_type": "stream",
          "name": "stdout",
          "text": "250/250 [==============================] - 757s 3s/step\b\b\b\b\b\b\b\b\b\b\b\b\b\b\b\b\b\b\b\b\b\b\b\b\b\b\b\b\b\b\b\b\b\b\b\b\b\b\b\b\b\b\b\b\b\b\b\b\b\b\b\n"
        },
        {
          "output_type": "execute_result",
          "execution_count": 36,
          "data": {
            "text/plain": "array([ 0.17562425,  0.21331733,  0.22370252,  0.10455251,  0.08392686,\n       -0.0259592 , -0.07337038,  0.1773848 ,  0.169066  ,  0.27645284,\n        0.0563214 ,  0.10964622,  0.32643956,  0.0913451 ,  0.3241963 ,\n        0.19452006,  0.3270937 ,  0.1747783 ,  0.20886016,  0.318964  ],\n      dtype=float32)"
          },
          "metadata": {}
        }
      ],
      "execution_count": 36,
      "metadata": {
        "gather": {
          "logged": 1671086789928
        }
      }
    },
    {
      "cell_type": "code",
      "source": [
        "y_train[0]"
      ],
      "outputs": [
        {
          "output_type": "execute_result",
          "execution_count": 37,
          "data": {
            "text/plain": "<tf.Tensor: shape=(20,), dtype=float32, numpy=\narray([ 0.61601144,  1.289281  , -1.1007904 ,  1.8023819 , -0.5949579 ,\n       -0.3603471 ,  0.47645456,  1.8105932 ,  1.5537475 ,  0.12308085,\n        0.7750955 , -0.48037013, -0.42177597, -1.861378  , -1.3506731 ,\n       -1.4087504 ,  0.8619918 ,  0.70339555,  1.7222025 ,  1.2666596 ],\n      dtype=float32)>"
          },
          "metadata": {}
        }
      ],
      "execution_count": 37,
      "metadata": {
        "gather": {
          "logged": 1671087108339
        }
      }
    },
    {
      "cell_type": "code",
      "source": [
        "train_history.history"
      ],
      "outputs": [
        {
          "output_type": "execute_result",
          "execution_count": 38,
          "data": {
            "text/plain": "{'loss': [1.1165986061096191, 1.10605788230896],\n 'mean_squared_error': [1.1176252365112305, 1.1067001819610596],\n 'mean_absolute_percentage_error': [9530848.0, 9114881.0],\n 'val_loss': [1.1108729839324951, 1.1099187135696411],\n 'val_mean_squared_error': [1.1105958223342896, 1.1096798181533813],\n 'val_mean_absolute_percentage_error': [7921848.5, 8715877.0]}"
          },
          "metadata": {}
        }
      ],
      "execution_count": 38,
      "metadata": {
        "jupyter": {
          "source_hidden": false,
          "outputs_hidden": false
        },
        "nteract": {
          "transient": {
            "deleting": false
          }
        },
        "gather": {
          "logged": 1671087116237
        }
      }
    },
    {
      "cell_type": "code",
      "source": [
        "plt.plot(train_history.history['mean_squared_error'])\n",
        "plt.plot(train_history.history['val_mean_squared_error'])\n",
        "plt.title('model MSE')\n",
        "plt.ylabel('MSE')\n",
        "plt.xlabel('epoch')\n",
        "plt.legend(['Train', 'Validation'], loc='upper left')\n",
        "plt.show()"
      ],
      "outputs": [
        {
          "output_type": "display_data",
          "data": {
            "text/plain": "<Figure size 432x288 with 1 Axes>",
            "image/png": "[encoded data removed]"
          },
          "metadata": {
            "needs_background": "light"
          }
        }
      ],
      "execution_count": 39,
      "metadata": {
        "gather": {
          "logged": 1671087118869
        }
      }
    },
    {
      "cell_type": "code",
      "source": [
        "user_id = test_df['user_id'].tolist()[0]\n",
        "print(user_id)"
      ],
      "outputs": [
        {
          "output_type": "stream",
          "name": "stdout",
          "text": "2583\n"
        }
      ],
      "execution_count": 40,
      "metadata": {
        "jupyter": {
          "source_hidden": false,
          "outputs_hidden": false
        },
        "nteract": {
          "transient": {
            "deleting": false
          }
        },
        "gather": {
          "logged": 1671087123049
        }
      }
    },
    {
      "cell_type": "code",
      "source": [
        "newVector = np.array(predicted_raw[0])\n",
        "print(newVector)\n",
        "modelRec.user_factors[user_id]"
      ],
      "outputs": [
        {
          "output_type": "stream",
          "name": "stdout",
          "text": "[ 0.17562425  0.21331733  0.22370252  0.10455251  0.08392686 -0.0259592\n -0.07337038  0.1773848   0.169066    0.27645284  0.0563214   0.10964622\n  0.32643956  0.0913451   0.3241963   0.19452006  0.3270937   0.1747783\n  0.20886016  0.318964  ]\n"
        },
        {
          "output_type": "execute_result",
          "execution_count": 41,
          "data": {
            "text/plain": "array([ 1.3430897 , -0.46454692,  1.7118365 , -0.9350982 ,  0.746847  ,\n        1.9420581 ,  2.2403789 , -1.4276997 , -0.31267834,  0.7888094 ,\n        2.0714645 ,  0.47798777,  0.90224963, -1.16656   , -0.98620564,\n        0.972289  , -0.46800002, -1.0406213 , -0.43034008, -1.4140073 ],\n      dtype=float32)"
          },
          "metadata": {}
        }
      ],
      "execution_count": 41,
      "metadata": {
        "jupyter": {
          "source_hidden": false,
          "outputs_hidden": false
        },
        "nteract": {
          "transient": {
            "deleting": false
          }
        },
        "gather": {
          "logged": 1671087126433
        }
      }
    },
    {
      "cell_type": "code",
      "source": [
        "modelRec.recommend(user_id,data_conf[user_id], N = 20)"
      ],
      "outputs": [
        {
          "output_type": "execute_result",
          "execution_count": 42,
          "data": {
            "text/plain": "(array([ 486, 1010, 2911, 2868, 2718, 1831, 2538,   30, 1392, 2552, 3448,\n        3075, 1985,  994,  998, 3056, 3015, 3183, 3795, 1007], dtype=int32),\n array([0.5212387 , 0.5117135 , 0.4938407 , 0.4567606 , 0.45177245,\n        0.4482859 , 0.442662  , 0.42060283, 0.4130694 , 0.41081816,\n        0.4088124 , 0.40622464, 0.40348092, 0.40318942, 0.40000814,\n        0.390729  , 0.38689443, 0.3819231 , 0.38155636, 0.37364548],\n       dtype=float32))"
          },
          "metadata": {}
        }
      ],
      "execution_count": 42,
      "metadata": {
        "jupyter": {
          "source_hidden": false,
          "outputs_hidden": false
        },
        "nteract": {
          "transient": {
            "deleting": false
          }
        },
        "gather": {
          "logged": 1671087128311
        }
      }
    },
    {
      "cell_type": "code",
      "source": [
        "modelRec.user_factors[user_id] = newVector\n",
        "print(modelRec.recommend(user_id,data_conf[user_id], N =20))"
      ],
      "outputs": [
        {
          "output_type": "stream",
          "name": "stdout",
          "text": "(array([3653, 1052,  982,  752, 1540, 1743, 2880, 3286, 3185, 2293,  900,\n       1431, 2866,  926, 1267, 2223,  241,  277, 1291,   30], dtype=int32), array([0.11908435, 0.10963389, 0.09277611, 0.08502308, 0.08236465,\n       0.08231629, 0.08119047, 0.07468513, 0.07388086, 0.07215826,\n       0.07070549, 0.0701668 , 0.07007919, 0.06980097, 0.06683615,\n       0.06559658, 0.06544447, 0.06316205, 0.06219524, 0.0612511 ],\n      dtype=float32))\n"
        }
      ],
      "execution_count": 43,
      "metadata": {
        "jupyter": {
          "source_hidden": false,
          "outputs_hidden": false
        },
        "nteract": {
          "transient": {
            "deleting": false
          }
        },
        "gather": {
          "logged": 1671087130598
        }
      }
    }
  ],
  "metadata": {
    "kernelspec": {
      "name": "python38-azureml-pt-tf",
      "language": "python",
      "display_name": "Python 3.8 - Pytorch and Tensorflow"
    },
    "language_info": {
      "name": "python",
      "version": "3.8.5",
      "mimetype": "text/x-python",
      "codemirror_mode": {
        "name": "ipython",
        "version": 3
      },
      "pygments_lexer": "ipython3",
      "nbconvert_exporter": "python",
      "file_extension": ".py"
    },
    "vscode": {
      "interpreter": {
        "hash": "b984b6cd31d680ad135f7e15da2d3b38dd94d62b48019a92616e61cf3e8911ce"
      }
    },
    "kernel_info": {
      "name": "python38-azureml-pt-tf"
    },
    "microsoft": {
      "host": {
        "AzureML": {
          "notebookHasBeenCompleted": true
        }
      }
    },
    "nteract": {
      "version": "nteract-front-end@1.0.0"
    }
  },
  "nbformat": 4,
  "nbformat_minor": 2
}